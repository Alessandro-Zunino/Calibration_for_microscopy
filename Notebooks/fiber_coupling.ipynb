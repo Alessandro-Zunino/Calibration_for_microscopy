{
 "cells": [
  {
   "cell_type": "markdown",
   "id": "fa4ee7d6-e7f7-423c-a40f-c267697a5acf",
   "metadata": {},
   "source": [
    "# Single-mode fiber coupling\n",
    "\n",
    "In this notebook, we calculate the coupling efficiency of a beam with a single-mode optical fiber assuming no internal losses.\n",
    "\n",
    "Then, we see how to choose the focal length that maximizes the coupling efficiency."
   ]
  },
  {
   "cell_type": "code",
   "execution_count": 1,
   "id": "e6aee73d-a332-4a95-ae66-a00f9812faa6",
   "metadata": {},
   "outputs": [],
   "source": [
    "import numpy as np\n",
    "import matplotlib.pyplot as plt"
   ]
  },
  {
   "cell_type": "markdown",
   "id": "e5e9b7a2-9e22-4cfc-bf5d-649325c85600",
   "metadata": {},
   "source": [
    "Here, we define some functions to model the beam and the fiber mode."
   ]
  },
  {
   "cell_type": "code",
   "execution_count": 2,
   "id": "7740f482-7b19-4c67-8168-df6931473d79",
   "metadata": {},
   "outputs": [],
   "source": [
    "def multivar_gaussian(X, Y, M1, M2):\n",
    "\n",
    "    S = np.asarray([X, Y])\n",
    "    S = np.moveaxis(S, 0, 2) - M1\n",
    "\n",
    "    A = np.linalg.inv(M2)\n",
    "\n",
    "    B = np.einsum('ij, lmj -> ilm', A, S)\n",
    "    C = np.einsum('ijk, kij -> ij', S, B)\n",
    "\n",
    "    g = np.exp(- 0.5 * C)\n",
    "\n",
    "    return g\n",
    "\n",
    "\n",
    "def elliptical_beam(fov, n_pixels, waist, wavelength = 640e-9, focal_length = None):\n",
    "\n",
    "    sigma = np.asarray(waist) / 4\n",
    "    var = 2 * sigma**2\n",
    "    \n",
    "    if focal_length is not None:\n",
    "        var = wavelength**2 * focal_length **2  / ( 4* np.pi**2 * var )\n",
    "        \n",
    "    var_matrix = np.matrix([[var[0], 0], [0, var[1]]])\n",
    "\n",
    "    x = np.linspace(-0.5*fov, 0.5*fov, num = n_pixels)\n",
    "    xx, yy = np.meshgrid(x, x)\n",
    "    \n",
    "    g = multivar_gaussian(xx, yy, [0, 0], var_matrix)\n",
    "\n",
    "    return g / g.max()\n",
    "\n",
    "\n",
    "def fiber_mode(fov, n_pixels, mfd):\n",
    "    \n",
    "    sigma = mfd / 4\n",
    "    var = 2 * sigma**2\n",
    "    var_matrix = np.matrix([[var, 0], [0, var]])\n",
    "\n",
    "    x = np.linspace(-0.5*fov, 0.5*fov, num = n_pixels)\n",
    "    xx, yy = np.meshgrid(x, x)\n",
    "\n",
    "    g = multivar_gaussian(xx, yy, [0, 0], var_matrix)\n",
    "\n",
    "    return g / g.max()\n",
    "\n",
    "\n",
    "def overlap_integral(e1, e2):\n",
    "\n",
    "    overlap = np.abs( np.sum( e1.conj() * e2 ) )**2\n",
    "    i1 = np.sum(np.abs(e1)**2)\n",
    "    i2 = np.sum(np.abs(e2)**2)\n",
    "\n",
    "    return overlap / i1 / i2"
   ]
  },
  {
   "cell_type": "markdown",
   "id": "16b67b25-f582-42cf-9758-cec1de91a479",
   "metadata": {},
   "source": [
    "In this example, we consider an elliptical Gaussian beam. However, the method exposed in this notebook is general and can be used for any beam shape."
   ]
  },
  {
   "cell_type": "code",
   "execution_count": 3,
   "id": "c2beafb4-a668-419d-9a98-2c1ea659adb3",
   "metadata": {
    "editable": true,
    "slideshow": {
     "slide_type": ""
    },
    "tags": []
   },
   "outputs": [],
   "source": [
    "mfd = 2e-6  # mode field diameter, meters\n",
    "waist = np.asarray([1.5, 3.5]) * 1e-3  # beam size defined as 1/e^2 or 4sigma, meters\n",
    "wavelength = 640e-9  # meters"
   ]
  },
  {
   "cell_type": "markdown",
   "id": "2adaf3e8-d9ab-47b1-9e25-f3767a2f89a4",
   "metadata": {},
   "source": [
    "We choose a focal length and define the field of view for the simulation"
   ]
  },
  {
   "cell_type": "code",
   "execution_count": 4,
   "id": "415d4d84-d19c-41ba-97ad-acb607e9ef48",
   "metadata": {},
   "outputs": [],
   "source": [
    "focal_length = 10e-3  # meters\n",
    "fov = 4*mfd # meters\n",
    "n_pixels = 1000"
   ]
  },
  {
   "cell_type": "code",
   "execution_count": 5,
   "id": "6962f3b3-9be0-4d92-bf29-c8b443a4f813",
   "metadata": {},
   "outputs": [
    {
     "data": {
      "text/plain": [
       "<a list of 1 text.Text objects>"
      ]
     },
     "execution_count": 5,
     "metadata": {},
     "output_type": "execute_result"
    },
    {
     "data": {
      "image/png": "[encoded data removed]",
      "text/plain": [
       "<Figure size 576x576 with 1 Axes>"
      ]
     },
     "metadata": {
      "needs_background": "light"
     },
     "output_type": "display_data"
    }
   ],
   "source": [
    "g = elliptical_beam(fov, n_pixels, waist, wavelength = wavelength, focal_length = focal_length)\n",
    "\n",
    "m = fiber_mode(fov, n_pixels, mfd)\n",
    "\n",
    "extent = (-0.5*fov*1e6, 0.5*1e6*fov, -0.5*1e6*fov, 0.5*1e6*fov)\n",
    "\n",
    "plt.figure(figsize = (8, 8))\n",
    "l1 = plt.contour(g, [g.max()/np.exp(2)], cmap = 'autumn', extent = extent)\n",
    "l2 = plt.contour(m, [m.max()/np.exp(2)], cmap = 'cool', extent = extent)\n",
    "plt.gca().set_aspect('equal')\n",
    "plt.xlabel(r'x ($\\mu m)$')\n",
    "plt.ylabel(r'y ($\\mu m)$')\n",
    "plt.title('Fiber core plane')\n",
    "\n",
    "plt.gca().clabel(l1, l1.levels, fmt = 'Beam', inline=True, fontsize=10)\n",
    "plt.gca().clabel(l2, l2.levels, fmt = 'Fiber', inline=True, fontsize=10)"
   ]
  },
  {
   "cell_type": "markdown",
   "id": "cf180647-53fd-4a39-814a-9c8b1ca9e5e6",
   "metadata": {},
   "source": [
    "The coupling efficiency is given by the normalized overlap integral\n",
    "$$\\eta  = \\frac{{{{\\left| {\\int {E_1^*{E_2}\\;{\\rm{d}^2}x} } \\right|}^2}}}{{\\int {{{\\left| {{E_1}} \\right|}^2}{\\rm{d}^2}x\\;\\int {{{\\left| {{E_2}} \\right|}^2}{\\rm{d}^2}x} } }} $$\n",
    "where $E_1$ is the electric field of the incident beam and $E_2$ is the mode supported by the single-mode optical fiber."
   ]
  },
  {
   "cell_type": "code",
   "execution_count": 6,
   "id": "22e7e29f-54cd-4a55-97c2-f4cc882a69bb",
   "metadata": {},
   "outputs": [
    {
     "name": "stdout",
     "output_type": "stream",
     "text": [
      "Coupling efficiency = 0.643\n"
     ]
    }
   ],
   "source": [
    "coupling_efficiency = overlap_integral(g, m)\n",
    "print(f'Coupling efficiency = {coupling_efficiency:.3f}')"
   ]
  },
  {
   "cell_type": "markdown",
   "id": "31364c8b-8499-40d8-8cf7-f8433168faf2",
   "metadata": {},
   "source": [
    "Now, we define a function that looks for the focal lenght that maximizes the efficiency."
   ]
  },
  {
   "cell_type": "code",
   "execution_count": 7,
   "id": "bc3eb52f-dd18-4143-ab58-808c844d89fb",
   "metadata": {},
   "outputs": [],
   "source": [
    "from scipy.optimize import minimize\n",
    "\n",
    "def loss_function(focal_length, fov, n_pixels, mfd, waist, wavelength):\n",
    "\n",
    "    g = elliptical_beam(fov, n_pixels, waist, wavelength, focal_length)\n",
    "    m = fiber_mode(fov, n_pixels, mfd)\n",
    "\n",
    "    efficiency = overlap_integral(g, m)\n",
    "    loss =  np.abs(1 - efficiency)\n",
    "\n",
    "    return loss\n",
    "\n",
    "\n",
    "def find_focal_length(f0, mfd, waist, wavelength):\n",
    "\n",
    "    fov = 4*mfd\n",
    "    n_pixels = 501\n",
    "    \n",
    "    result = minimize(loss_function, x0=f0, args = (fov, n_pixels, mfd, waist, wavelength))\n",
    "\n",
    "    return result"
   ]
  },
  {
   "cell_type": "markdown",
   "id": "4e27adac-f84b-45d7-b594-c5c0ed6badd3",
   "metadata": {},
   "source": [
    "Using a single-valued starting point, the algorithm looks for a single focal length, assumed to be identical on both axes."
   ]
  },
  {
   "cell_type": "code",
   "execution_count": 8,
   "id": "a1aefed6-e88e-4773-b981-b8b2d30a1d37",
   "metadata": {},
   "outputs": [
    {
     "name": "stdout",
     "output_type": "stream",
     "text": [
      "  message: Optimization terminated successfully.\n",
      "  success: True\n",
      "   status: 0\n",
      "      fun: 0.15999987071906707\n",
      "        x: [ 5.624e-03]\n",
      "      nit: 7\n",
      "      jac: [ 4.053e-06]\n",
      " hess_inv: [[ 2.244e-05]]\n",
      "     nfev: 28\n",
      "     njev: 14\n"
     ]
    }
   ],
   "source": [
    "f0 = 1e-2  #starting point, meters \n",
    "#f0 = np.asarray([1e-2, 1e-2])  # if initialized with 2-elements array, it returns two focal lenghts\n",
    "\n",
    "result = find_focal_length(f0, mfd, waist, wavelength)\n",
    "print(result)"
   ]
  },
  {
   "cell_type": "code",
   "execution_count": 9,
   "id": "24ca0e9e-8580-4d6c-a80b-dd0561d5e666",
   "metadata": {},
   "outputs": [
    {
     "name": "stdout",
     "output_type": "stream",
     "text": [
      "Optimal focal length = [5.62] mm\n"
     ]
    }
   ],
   "source": [
    "foc = np.asarray(result.x)\n",
    "print('Optimal focal length = ' + np.array2string(1e3*foc, precision=2, separator = ', ') + ' mm')"
   ]
  },
  {
   "cell_type": "markdown",
   "id": "f742dda3-b730-4df3-bf0b-a925bbcc101a",
   "metadata": {},
   "source": [
    "We plot the overlap of the beam and the fiber mode with the optimal focal length"
   ]
  },
  {
   "cell_type": "code",
   "execution_count": 10,
   "id": "8126f56a-d2fd-44c7-8284-0fe036da9206",
   "metadata": {},
   "outputs": [
    {
     "data": {
      "text/plain": [
       "<a list of 1 text.Text objects>"
      ]
     },
     "execution_count": 10,
     "metadata": {},
     "output_type": "execute_result"
    },
    {
     "data": {
      "image/png": "[encoded data removed]",
      "text/plain": [
       "<Figure size 576x576 with 1 Axes>"
      ]
     },
     "metadata": {
      "needs_background": "light"
     },
     "output_type": "display_data"
    }
   ],
   "source": [
    "g = elliptical_beam(fov, n_pixels, waist, wavelength = wavelength, focal_length = foc)\n",
    "m = fiber_mode(fov, n_pixels, mfd)\n",
    "\n",
    "plt.figure(figsize = (8, 8))\n",
    "l1 = plt.contour(g, [g.max()/np.exp(2)], cmap = 'autumn', extent = extent)\n",
    "l2 = plt.contour(m, [m.max()/np.exp(2)], cmap = 'cool', extent = extent)\n",
    "plt.gca().set_aspect('equal')\n",
    "plt.xlabel(r'x ($\\mu m)$')\n",
    "plt.ylabel(r'y ($\\mu m)$')\n",
    "plt.title('Fiber core plane')\n",
    "\n",
    "plt.gca().clabel(l1, l1.levels, fmt = 'Beam', inline=True, fontsize=10)\n",
    "plt.gca().clabel(l2, l2.levels, fmt = 'Fiber', inline=True, fontsize=10)"
   ]
  },
  {
   "cell_type": "markdown",
   "id": "e74d6eaa-e7f1-4a77-8f18-91b8f7e9eb6f",
   "metadata": {},
   "source": [
    "The best coupling efficiency is"
   ]
  },
  {
   "cell_type": "code",
   "execution_count": 11,
   "id": "a96e6b0d-2e79-4e92-a187-03cc964ab78e",
   "metadata": {},
   "outputs": [
    {
     "name": "stdout",
     "output_type": "stream",
     "text": [
      "Optimal coupling efficiency = 0.840\n"
     ]
    }
   ],
   "source": [
    "coupling_efficiency = overlap_integral(g, m)\n",
    "print(f'Optimal coupling efficiency = {coupling_efficiency:.3f}')"
   ]
  },
  {
   "cell_type": "markdown",
   "id": "a725c79b-6957-478d-9d9f-d61c944926d4",
   "metadata": {},
   "source": [
    "Using a starting point with two values, the algorithm looks for a different focal length for each axis."
   ]
  },
  {
   "cell_type": "code",
   "execution_count": 12,
   "id": "a4494282-d370-45ec-b9b6-a2f8417566e0",
   "metadata": {},
   "outputs": [
    {
     "name": "stdout",
     "output_type": "stream",
     "text": [
      "  message: Optimization terminated successfully.\n",
      "  success: True\n",
      "   status: 0\n",
      "      fun: 2.360334150353083e-12\n",
      "        x: [ 3.682e-03  8.590e-03]\n",
      "      nit: 8\n",
      "      jac: [ 7.607e-06  9.462e-07]\n",
      " hess_inv: [[ 1.382e-05  1.823e-07]\n",
      "            [ 1.823e-07  7.392e-05]]\n",
      "     nfev: 51\n",
      "     njev: 17\n"
     ]
    }
   ],
   "source": [
    "f0 = np.asarray([1e-2, 1e-2]) \n",
    "\n",
    "result = find_focal_length(f0, mfd, waist, wavelength)\n",
    "print(result)"
   ]
  },
  {
   "cell_type": "code",
   "execution_count": 13,
   "id": "0ffd6a28-09bf-490b-86a4-ea6f67460301",
   "metadata": {},
   "outputs": [
    {
     "name": "stdout",
     "output_type": "stream",
     "text": [
      "Optimal focal lengths = [3.68, 8.59] mm\n"
     ]
    }
   ],
   "source": [
    "foc = np.asarray(result.x)\n",
    "print('Optimal focal lengths = ' + np.array2string(1e3*foc, precision=2, separator = ', ') + ' mm')"
   ]
  },
  {
   "cell_type": "code",
   "execution_count": 14,
   "id": "9998e235-4850-488a-917a-1e16d3d40e4b",
   "metadata": {},
   "outputs": [
    {
     "data": {
      "text/plain": [
       "<a list of 1 text.Text objects>"
      ]
     },
     "execution_count": 14,
     "metadata": {},
     "output_type": "execute_result"
    },
    {
     "data": {
      "image/png": "[encoded data removed]",
      "text/plain": [
       "<Figure size 576x576 with 1 Axes>"
      ]
     },
     "metadata": {
      "needs_background": "light"
     },
     "output_type": "display_data"
    }
   ],
   "source": [
    "g = elliptical_beam(fov, n_pixels, waist, wavelength = wavelength, focal_length = foc)\n",
    "m = fiber_mode(fov, n_pixels, mfd)\n",
    "\n",
    "plt.figure(figsize = (8, 8))\n",
    "l1 = plt.contour(g, [g.max()/np.exp(2)], cmap = 'autumn', extent = extent)\n",
    "l2 = plt.contour(m, [m.max()/np.exp(2)], cmap = 'cool', extent = extent)\n",
    "plt.gca().set_aspect('equal')\n",
    "plt.xlabel(r'x ($\\mu m)$')\n",
    "plt.ylabel(r'y ($\\mu m)$')\n",
    "plt.title('Fiber core plane')\n",
    "\n",
    "plt.gca().clabel(l1, l1.levels, fmt = 'Beam', inline=True, fontsize=10)\n",
    "plt.gca().clabel(l2, l2.levels, fmt = 'Fiber', inline=True, fontsize=10)"
   ]
  },
  {
   "cell_type": "code",
   "execution_count": 15,
   "id": "14debbd5-7b24-419e-88df-0ec1707cb51a",
   "metadata": {},
   "outputs": [
    {
     "name": "stdout",
     "output_type": "stream",
     "text": [
      "Optimal coupling efficiency = 1.000\n"
     ]
    }
   ],
   "source": [
    "coupling_efficiency = overlap_integral(g, m)\n",
    "print(f'Optimal coupling efficiency = {coupling_efficiency:.3f}')"
   ]
  },
  {
   "cell_type": "markdown",
   "id": "9aa94d40-0fc1-4baa-9136-320dc1a2ab90",
   "metadata": {},
   "source": [
    "In the case of Gaussian beam, the optimal focal length can be calculated analytically without the need for a numerical minimizer.\n",
    "\n",
    "The focal length that maximizes the coupling efficiency is\n",
    "\n",
    "$$ f = \\frac{\\pi  w  \\mu }{4\\lambda}$$\n",
    "\n",
    "where $\\lambda$ is the wavelength of the beam, $\\mu$ is the mode field diameter (MFD) of the optical fiber, and $w$ is the beam waist (4$\\sigma$) measured at the aperture plane of the lens.\n",
    "\n",
    "If the beam is elliptical, the effective waist is calculated as the geometrical mean of the waist on the two axes.\n",
    "\n",
    "$$w = \\sqrt{ w_x \\cdot w_y }$$"
   ]
  },
  {
   "cell_type": "code",
   "execution_count": 16,
   "id": "5b4e1812-92aa-4360-8fa6-73055db5ff68",
   "metadata": {},
   "outputs": [
    {
     "name": "stdout",
     "output_type": "stream",
     "text": [
      "Optimal focal length = 5.62 mm\n"
     ]
    }
   ],
   "source": [
    "# analytic solution\n",
    "\n",
    "waist_eff = np.sqrt( np.prod( waist ) )  # geometric mean of the waist on the 2 axes\n",
    "\n",
    "optimal_focal_length = np.pi*waist_eff*mfd/wavelength/4  # meters\n",
    "\n",
    "print('Optimal focal length = ' + np.array2string(1e3*optimal_focal_length, precision=2, separator = ', ') + ' mm')"
   ]
  },
  {
   "cell_type": "code",
   "execution_count": 17,
   "id": "59911b68-1fdf-44e4-83f1-8c0fb7c83729",
   "metadata": {},
   "outputs": [
    {
     "name": "stdout",
     "output_type": "stream",
     "text": [
      "Optimal focal lengths = [3.68, 8.59] mm\n"
     ]
    }
   ],
   "source": [
    "optimal_focal_length = np.pi*waist*mfd/wavelength/4  # meters\n",
    "\n",
    "print('Optimal focal lengths = ' + np.array2string(1e3*optimal_focal_length, precision=2, separator = ', ') + ' mm')"
   ]
  }
 ],
 "metadata": {
  "kernelspec": {
   "display_name": "Python 3 (ipykernel)",
   "language": "python",
   "name": "python3"
  },
  "language_info": {
   "codemirror_mode": {
    "name": "ipython",
    "version": 3
   },
   "file_extension": ".py",
   "mimetype": "text/x-python",
   "name": "python",
   "nbconvert_exporter": "python",
   "pygments_lexer": "ipython3",
   "version": "3.10.2"
  }
 },
 "nbformat": 4,
 "nbformat_minor": 5
}
